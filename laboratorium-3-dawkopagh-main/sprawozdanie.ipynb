{
 "cells": [
  {
   "cell_type": "markdown",
   "metadata": {},
   "source": [
    "# <center>Laboratorium 3<br>Metody Numeryczne</center>"
   ]
  },
  {
   "cell_type": "markdown",
   "metadata": {},
   "source": [
    "Instrukcja:  \n",
    "Na zajęciach należy wykonać poniższe zadania, dokonać testu na platformie github, a następnie sporządzić sprawozdanie zawierające odpowiedzi z komentarzami."
   ]
  },
  {
   "cell_type": "markdown",
   "metadata": {},
   "source": [
    "Biblioteki niezbędne do wykonania zadania:\n",
    "\n",
    "(instalacja: \"pip install numpy scipy matplotlib memory_profiler\")"
   ]
  },
  {
   "cell_type": "code",
   "execution_count": 11,
   "metadata": {},
   "outputs": [
    {
     "name": "stdout",
     "output_type": "stream",
     "text": [
      "The memory_profiler extension is already loaded. To reload it, use:\n",
      "  %reload_ext memory_profiler\n"
     ]
    }
   ],
   "source": [
    "import main\n",
    "\n",
    "import numpy as np\n",
    "import scipy\n",
    "import matplotlib\n",
    "import matplotlib.pyplot as plt\n",
    "from typing import Union, List, Tuple\n",
    "\n",
    "%load_ext memory_profiler"
   ]
  },
  {
   "cell_type": "markdown",
   "metadata": {},
   "source": [
    "***Materiały przygotowujące:***\n",
    "- Standard IEEE 754 [PL](https://pl.wikipedia.org/wiki/IEEE_754) [EN](https://en.wikipedia.org/wiki/IEEE_754)\n",
    "- Liczba zmiennoprzecinkowa [PL](https://pl.wikipedia.org/wiki/Liczba_zmiennoprzecinkowa) [EN](https://en.wikipedia.org/wiki/Floating-point_arithmetic)\n",
    "- Arytmetyka zmiennoprzecinkowa [Python](https://docs.python.org/3.7/tutorial/floatingpoint.html)"
   ]
  },
  {
   "source": [
    "***Profilowanie kodu:***\n",
    "- [timeit](https://docs.python.org/2/library/timeit.html) - profilowanie czasu wykonywania kodu \n",
    "- [memit](https://pypi.org/project/memory-profiler/) - profilowanie pamięci zużywanej przez kod\n",
    "\n",
    "Zarówno timeit jak i memit wspierają magic command w Jupyter notebook, co obrazuje poniższy przykład:"
   ],
   "cell_type": "markdown",
   "metadata": {}
  },
  {
   "cell_type": "code",
   "execution_count": 12,
   "metadata": {},
   "outputs": [
    {
     "name": "stdout",
     "output_type": "stream",
     "text": [
      "SIZE:  100\n",
      "Timing: \n",
      "186 µs ± 100 µs per loop (mean ± std. dev. of 5 runs, 10 loops each)\n",
      "Memory usage: \n",
      "peak memory: 143.86 MiB, increment: 0.10 MiB\n",
      "\n",
      "\n",
      "SIZE:  1000\n",
      "Timing: \n",
      "18.2 ms ± 625 µs per loop (mean ± std. dev. of 5 runs, 10 loops each)\n",
      "Memory usage: \n",
      "peak memory: 166.77 MiB, increment: 22.90 MiB\n",
      "\n",
      "\n",
      "SIZE:  10000\n",
      "Timing: \n",
      "1.75 s ± 34.3 ms per loop (mean ± std. dev. of 5 runs, 10 loops each)\n",
      "Memory usage: \n",
      "peak memory: 2155.34 MiB, increment: 2011.43 MiB\n",
      "\n",
      "\n"
     ]
    }
   ],
   "source": [
    "def func(size):\n",
    "    a = np.random.random((size,size))\n",
    "    b = np.random.random((size,size))\n",
    "    c = a + b\n",
    "    return c\n",
    "\n",
    "for size in [100, 1000, 10000]:\n",
    "    print('SIZE: ', size)\n",
    "    print('Timing: ')\n",
    "    saved_timing = %timeit -r 5 -n 10 -o func(size)\n",
    "    saved_timing.average   # średni czas próby\n",
    "    saved_timing.stdev     # odchylenie standardowe\n",
    "    print('Memory usage: ')\n",
    "    %memit func(size)\n",
    "    print('\\n')"
   ]
  },
  {
   "source": [
    "***Zadanie 1.***  \n",
    "Zaimplementuj funkcje obliczające błąd względny i bezwzględny (*relative_error* i *absolut_error*).\n",
    "Funkcje przyjmują 2 argumenty: wartość dokładną oraz wartość przybliżoną, zwracając wartość błędu.\n",
    "Implementacja powinna obsługiwać zarówno wartości skalarne, listy oraz wektory i macierze typu np.array z zachowaniem zasad [broadcastingu](https://numpy.org/doc/stable/user/basics.broadcasting.html).\n",
    "\n",
    "**Wskazówka** Wykorzystuj funkcje *relative_error* i *absolut_error* w dalszej części laboratorium do analizy błędów."
   ],
   "cell_type": "markdown",
   "metadata": {}
  },
  {
   "cell_type": "code",
   "execution_count": 13,
   "outputs": [],
   "source": [
    "#rozwiazanie\n",
    "def absolut_error(v: Union[int, float, List, np.ndarray], v_aprox: Union[int, float, List, np.ndarray]) -> Union[int, float, np.ndarray]:\n",
    "    \"\"\"Obliczenie błędu bezwzględnego.\n",
    "    Funkcja powinna działać zarówno na wartościach skalarnych, listach jak i wektorach/macierzach biblioteki numpy.\n",
    "\n",
    "    Parameters:\n",
    "    v (Union[int, float, List, np.ndarray]): wartość dokładna\n",
    "    v_aprox (Union[int, float, List, np.ndarray]): wartość przybliżona\n",
    "\n",
    "    Returns:\n",
    "    err Union[int, float, np.ndarray]: wartość błędu bezwzględnego,\n",
    "                                       NaN w przypadku błędnych danych wejściowych\n",
    "    \"\"\"\n",
    "    if not isinstance(v,(int,float,List,np.ndarray)) or not isinstance(v_aprox,(int,float,List,np.ndarray)):\n",
    "        return np.NaN\n",
    "    if isinstance(v,(List,np.ndarray)) and isinstance(v_aprox,(List,np.ndarray)) and len(v) != len(v_aprox):\n",
    "        return np.NaN\n",
    "\n",
    "    abs_err = abs(np.array(v_aprox) - np.array(v))\n",
    "    return abs_err\n",
    "\n",
    "def relative_error(v: Union[int, float, List, np.ndarray], v_aprox: Union[int, float, List, np.ndarray]) -> Union[int, float, np.ndarray]:\n",
    "    \"\"\"Obliczenie błędu względnego.\n",
    "    Funkcja powinna działać zarówno na wartościach skalarnych, listach jak i wektorach/macierzach biblioteki numpy.\n",
    "\n",
    "    Parameters:\n",
    "    v (Union[int, float, List, np.ndarray]): wartość dokładna\n",
    "    v_aprox (Union[int, float, List, np.ndarray]): wartość przybliżona\n",
    "\n",
    "    Returns:\n",
    "    err Union[int, float, np.ndarray]: wartość błędu względnego,\n",
    "                                       NaN w przypadku błędnych danych wejściowych\n",
    "    \"\"\"\n",
    "    if not isinstance(v, (int, float, List, np.ndarray)) or not isinstance(v_aprox, (int, float, List, np.ndarray)):\n",
    "        return np.NaN\n",
    "    if isinstance(v, (List, np.ndarray)) and isinstance(v_aprox, (List, np.ndarray)) and len(v) != len(v_aprox):\n",
    "        return np.NaN\n",
    "    if 0 in np.array(v):\n",
    "        return np.NaN\n",
    "\n",
    "    rel_error = abs(np.array(v_aprox) - np.array(v))/abs(np.array(v))\n",
    "    return rel_error\n"
   ],
   "metadata": {
    "collapsed": false,
    "pycharm": {
     "name": "#%%\n"
    }
   }
  },
  {
   "cell_type": "markdown",
   "metadata": {},
   "source": [
    "***Zadanie 2.***  \n",
    "Zaimplementuj funkcje *p_diff*, która przyjmuje jako parametry wartości całkowite $n$ i rzeczywiste $c$ oraz zwraca różnicę (co do wartości bezwzględnej)   dwóch wyrażeń $P_1$ oraz $P_2$:  \n",
    "  \n",
    "a) $P_1 = b - b + c $  \n",
    "b) $P_2 = b + c - b $  \n",
    "  \n",
    "gdzie $b = 2^n$\n",
    "\n",
    "Analizując różnicę w otrzymanych wynikach zastosuj warotści:  \n",
    "- $n \\in \\{1,2,3... 50\\}$\n",
    "- $c \\in \\{0.1, 0.125, 0.25, 0.33, 0.5, 0.6\\}$\n",
    " \n",
    "Następnie odpowiedź i zilustruj wykresami pytania:\n",
    "\n",
    "1. Jaki wynik powinniśmy otrzymać?\n",
    "2. Które z liczb mają skończoną a które nieskończoną reprezentację?    \n",
    "3. Dlaczego wyniki się od siebie różnią?    \n",
    "4. Jaki typ błędu tutaj występuje?\n",
    "5. Czy istnieje możliwość poprawy działania tych wyrażeń, jeżeli tak to w jaki sposób?  "
   ]
  },
  {
   "cell_type": "code",
   "execution_count": 15,
   "outputs": [],
   "source": [
    "#rozwiazanie\n",
    "def p_diff(n: int, c: float) -> float:\n",
    "    \"\"\"Funkcja wylicza wartości wyrażeń P1 i P2 w zależności od n i c.\n",
    "    Następnie zwraca wartość bezwzględną z ich różnicy.\n",
    "    Szczegóły w Zadaniu 2.\n",
    "\n",
    "    Parameters:\n",
    "    n Union[int]:\n",
    "    c Union[int, float]:\n",
    "\n",
    "    Returns:\n",
    "    diff float: różnica P1-P2\n",
    "                NaN w przypadku błędnych danych wejściowych\n",
    "    \"\"\"\n",
    "    if not isinstance(n, int) or not isinstance(c, (int, float)):\n",
    "        return np.NaN\n",
    "\n",
    "    p1 = 2 ** n - 2 ** n + c\n",
    "    p2 = 2 ** n + c - 2 ** n\n",
    "    diff = abs(p1 - p2)\n",
    "    return diff"
   ],
   "metadata": {
    "collapsed": false,
    "pycharm": {
     "name": "#%%\n"
    }
   }
  },
  {
   "cell_type": "markdown",
   "source": [
    "    1. Intuicja podpowiada, że w każdym przypadku powinniśmy otrzymać zero,\n",
    "       tak się jednak nie dzieje - dla niektórych przypadków wyniki są niezerowe.\n",
    "    2. Skończoną reprezentację mają liczby które są potęgami liczby 2.\n",
    "    3. Różnica wynika ze skończonej dokładności reprezentacji liczb zmiennoprzecinkowych\n",
    "       przez komputer\n",
    "    4. Błąd zaokrąglenia\n",
    "    5. Błąd zaokrąglenia można zmniejszyć umiejętnie ustalając sposób i kolejność wykonywanych działań."
   ],
   "metadata": {
    "collapsed": false,
    "pycharm": {
     "name": "#%% md\n"
    }
   }
  },
  {
   "cell_type": "code",
   "execution_count": 16,
   "outputs": [
    {
     "data": {
      "text/plain": "<Figure size 432x288 with 1 Axes>",
      "image/png": "[encoded data removed]"
     },
     "metadata": {
      "needs_background": "light"
     },
     "output_type": "display_data"
    },
    {
     "data": {
      "text/plain": "<Figure size 432x288 with 1 Axes>",
      "image/png": "[encoded data removed]"
     },
     "metadata": {
      "needs_background": "light"
     },
     "output_type": "display_data"
    },
    {
     "data": {
      "text/plain": "<Figure size 432x288 with 1 Axes>",
      "image/png": "[encoded data removed]"
     },
     "metadata": {
      "needs_background": "light"
     },
     "output_type": "display_data"
    },
    {
     "data": {
      "text/plain": "<Figure size 432x288 with 1 Axes>",
      "image/png": "[encoded data removed]"
     },
     "metadata": {
      "needs_background": "light"
     },
     "output_type": "display_data"
    },
    {
     "data": {
      "text/plain": "<Figure size 432x288 with 1 Axes>",
      "image/png": "[encoded data removed]"
     },
     "metadata": {
      "needs_background": "light"
     },
     "output_type": "display_data"
    },
    {
     "data": {
      "text/plain": "<Figure size 432x288 with 1 Axes>",
      "image/png": "[encoded data removed]"
     },
     "metadata": {
      "needs_background": "light"
     },
     "output_type": "display_data"
    }
   ],
   "source": [
    "c = [0.1, 0.125, 0.25, 0.33, 0.5, 0.6]\n",
    "n = np.arange(1,51)\n",
    "\n",
    "for elem in c:\n",
    "    y = np.array([])\n",
    "    for n_vec in range(50):\n",
    "        y = np.append(y, main.p_diff(n_vec,elem))\n",
    "    plt.plot(n, y, color = \"black\")\n",
    "    plt.grid()\n",
    "    plt.show()"
   ],
   "metadata": {
    "collapsed": false,
    "pycharm": {
     "name": "#%%\n"
    }
   }
  },
  {
   "cell_type": "markdown",
   "metadata": {},
   "source": [
    "***Zadanie 3.***  \n",
    "Wartości funkcji $\\mathrm{e}^{x}$ można obliczyć w przybliżeniu z szeregu Taylora w następujący sposób:  \n",
    "  \n",
    "$\\mathrm{e}^{x} \\approx \\sum\\limits_{i=0}^{N}{\\cfrac{1}{i!}x^{i}}$ \n",
    "  \n",
    "na podstawie przedstawionych informacji zaimplementuj funkcje *exponential* która oblicza $\\mathrm{e}^{x}$ z zadaną dokładnością $N$. Porównaj działanie utworzonej funkcji z [numpy.exp](https://docs.scipy.org/doc/numpy-1.15.1/reference/generated/numpy.exp.html). Odpowiedz na pytania:  \n",
    "\n",
    "1. Jaki typ błędu obrazuje omawiany przykład?\n",
    "2. Dokonaj analizy błędów bezwzględnych i względnych w zależności od wartości $n$."
   ]
  },
  {
   "cell_type": "code",
   "execution_count": 17,
   "outputs": [],
   "source": [
    "def exponential(x: Union[int, float], n: int) -> float:\n",
    "    \"\"\"Funkcja znajdująca przybliżenie funkcji exp(x).\n",
    "    Do obliczania silni można użyć funkcji scipy.math.factorial(x)\n",
    "    Szczegóły w Zadaniu 3.\n",
    "\n",
    "    Parameters:\n",
    "    x Union[int, float]: wykładnik funkcji ekspotencjalnej\n",
    "    n Union[int]: liczba wyrazów w ciągu\n",
    "\n",
    "    Returns:\n",
    "    exp_aprox float: aproksymowana wartość funkcji,\n",
    "                     NaN w przypadku błędnych danych wejściowych\n",
    "    \"\"\"\n",
    "    if not isinstance(n,int) or n < 0:\n",
    "        return np.NaN\n",
    "    if not isinstance(x,(int,float)):\n",
    "        return np.NaN\n",
    "    result = 0.0\n",
    "    for iter in range(n):\n",
    "        result += (x**iter)/scipy.math.factorial(iter)\n",
    "    return result"
   ],
   "metadata": {
    "collapsed": false,
    "pycharm": {
     "name": "#%%\n"
    }
   }
  },
  {
   "cell_type": "markdown",
   "source": [
    "W przykładzie występuje błąd obcięcia.\n",
    "\n",
    "Przykładowe błędy bezwzględne i względne dla\n",
    "\n",
    "n= 1:35, exp = 20"
   ],
   "metadata": {
    "collapsed": false,
    "pycharm": {
     "name": "#%% md\n"
    }
   }
  },
  {
   "cell_type": "code",
   "execution_count": 18,
   "outputs": [
    {
     "data": {
      "text/plain": "<Figure size 432x288 with 1 Axes>",
      "image/png": "[encoded data removed]"
     },
     "metadata": {
      "needs_background": "light"
     },
     "output_type": "display_data"
    }
   ],
   "source": [
    "n = np.arange(1,36)\n",
    "xp = 20\n",
    "y_abs = np.array([])\n",
    "y_rel = np.array([])\n",
    "for elem in range(1,36):\n",
    "    y_rel = np.append(y_rel, main.relative_error(np.exp(xp),main.exponential(xp,elem)))\n",
    "    y_abs = np.append(y_abs, main.absolut_error(np.exp(xp),main.exponential(xp,elem)))\n",
    "plt.plot(n, y_rel, color = 'blue')\n",
    "plt.plot(n, y_abs, color = 'red')\n",
    "plt.legend([\"Blad wzgledny\", \"Blad bezwzgledny\"])\n",
    "plt.title(\"Zestawienie bledow bezwzglednych i wzglednych\")\n",
    "\n",
    "plt.show()"
   ],
   "metadata": {
    "collapsed": false,
    "pycharm": {
     "name": "#%%\n"
    }
   }
  },
  {
   "cell_type": "markdown",
   "metadata": {},
   "source": [
    "***Zadania 4.***  \n",
    "Zaimplementuj 2 funkcje $coskx1$ i $coskx2$, realizujące rekurencyjnie przybliżanie wartości $cos(kx)$ w następujący sposób:\n",
    "\n",
    "- Metoda 1:         \n",
    "$cos(m+1)x = 2cosx \\cdot cos(mx) - cos(m-1)x$\n",
    "- Metoda 2:     \n",
    "$cos(mx) = cosx \\cdot cos(m-1)x - sinx \\cdot sin(m-1)x$       \n",
    "$sin(mx) = sinx \\cdot cos(m-1)x + cosx \\cdot sin(m-1)x$\n",
    "\n",
    "Następnie przeanalizuj otrzymane rezultaty dla różnych $k$.\n",
    "\n",
    "**Wskazówka** Do wyliczenia wartości $sin(x)$, $cos(x)$ (dla $k=1$) można użyć funkcji biblioteki numpy. \n",
    "Pozostałe wartości dla $k>1$ należy wyznaczyć rekurencyjnie."
   ]
  },
  {
   "cell_type": "code",
   "execution_count": 19,
   "outputs": [],
   "source": [
    "#rozwiazanie\n",
    "def coskx2(k: int, x: Union[int, float]) -> Tuple[float, float]:\n",
    "    \"\"\"Funkcja znajdująca przybliżenie funkcji cos(kx). Metoda 2.\n",
    "    Szczegóły w Zadaniu 4.\n",
    "\n",
    "    Parameters:\n",
    "    x Union[int, float]:\n",
    "    k Union[int]:\n",
    "\n",
    "    Returns:\n",
    "    coskx, sinkx float: aproksymowana wartość funkcji,\n",
    "                        NaN w przypadku błędnych danych wejściowych\n",
    "    \"\"\"\n",
    "    if k == 1:\n",
    "        return np.cos(x), np.sin(x)\n",
    "    elif k == 0:\n",
    "        return 1, 0\n",
    "    elif x == 0:\n",
    "        return 1, 0\n",
    "    elif not isinstance(k, int) or k < 0:\n",
    "        return np.NaN\n",
    "    elif not isinstance(x, (int, float)):\n",
    "        return np.NaN\n",
    "    elif k > 0:\n",
    "        return np.cos(x) * coskx2(k - 1, x)[0] - np.sin(x) * coskx2(k - 1, x)[1],\\\n",
    "               np.sin(x) * coskx2(k - 1, x)[0] + np.cos(x) * coskx2(k - 1, x)[1]"
   ],
   "metadata": {
    "collapsed": false,
    "pycharm": {
     "name": "#%%\n"
    }
   }
  },
  {
   "cell_type": "markdown",
   "metadata": {},
   "source": [
    "***Zadanie 5.***  \n",
    "Wiedząc, że\n",
    "$\\begin{aligned}\n",
    "\\sum_{n=1}^{\\infty} \\cfrac{1}{n^2} = \\cfrac{1}{6} \\pi^2\n",
    "\\end{aligned}$,\n",
    "napisz kod w Pythonie (funkcja *pi*) obliczający przybliżenie liczby pi (nie korzystaj ze stałych <i>numpy.pi</i>, <i>math.pi</i> itp.). \n",
    "\n",
    "1. Z jakimi rodzajami błędów numerycznych mamy tu do czynienia? \n",
    "2. Sporządź wykresy błędów bezwzględnych i względnych w stosunku do stałej numpy.pi w zależności od wartości $n$.  \n",
    "\n",
    "**Wskazówka** Do wizualizacji wyników użyj skali logarytmicznej."
   ]
  },
  {
   "cell_type": "code",
   "execution_count": 20,
   "outputs": [],
   "source": [
    "#rozwiazanie\n",
    "\n",
    "def pi(n: int) -> float:\n",
    "    \"\"\"Funkcja znajdująca przybliżenie wartości stałej pi.\n",
    "    Szczegóły w Zadaniu 5.\n",
    "\n",
    "    Parameters:\n",
    "    n Union[int, List[int], np.ndarray[int]]: liczba wyrazów w ciągu\n",
    "\n",
    "    Returns:\n",
    "    pi_aprox float: przybliżenie stałej pi,\n",
    "                    NaN w przypadku błędnych danych wejściowych\n",
    "    \"\"\"\n",
    "    if not isinstance(n,int) or n <= 0:\n",
    "        return np.NaN\n",
    "    pi_approx = 0.0\n",
    "\n",
    "    for iter in range(1,n+1):\n",
    "        pi_approx += 6/(iter**2)\n",
    "    return np.sqrt(pi_approx)"
   ],
   "metadata": {
    "collapsed": false,
    "pycharm": {
     "name": "#%%\n"
    }
   }
  },
  {
   "cell_type": "markdown",
   "source": [
    "1. Do czynienia mamy z błędami zaokrąglenia przy wykonywaniu pierwiastkowania, oraz błędy obcięcia - n nie jest nieskończone.\n",
    "2."
   ],
   "metadata": {
    "collapsed": false,
    "pycharm": {
     "name": "#%% md\n"
    }
   }
  },
  {
   "cell_type": "code",
   "execution_count": 21,
   "outputs": [
    {
     "data": {
      "text/plain": "Text(0.5, 1.0, 'Analiza bledow bezwzglednych i wzglednych')"
     },
     "execution_count": 21,
     "metadata": {},
     "output_type": "execute_result"
    },
    {
     "data": {
      "text/plain": "<Figure size 432x288 with 1 Axes>",
      "image/png": "[encoded data removed]"
     },
     "metadata": {
      "needs_background": "light"
     },
     "output_type": "display_data"
    }
   ],
   "source": [
    "n = np.arange(1,201)\n",
    "y_rel = np.array([])\n",
    "y_abs = np.array([])\n",
    "\n",
    "for elem in range(1,201):\n",
    "    y_rel = np.append(y_rel, main.relative_error(np.pi, main.pi(elem)))\n",
    "    y_abs = np.append(y_abs, main.absolut_error(np.pi, main.pi(elem)))\n",
    "plt.semilogy(n, y_rel, color = \"blue\")\n",
    "plt.semilogy(n, y_abs, color = \"red\")\n",
    "plt.legend([\"Blad wzgledny\", \"Blad bezwgledny\"])\n",
    "plt.title(\"Analiza bledow bezwzglednych i wzglednych\")"
   ],
   "metadata": {
    "collapsed": false,
    "pycharm": {
     "name": "#%%\n"
    }
   }
  },
  {
   "cell_type": "markdown",
   "metadata": {},
   "source": [
    "***Zadanie 6.***  \n",
    "Używając funkcji timeit oraz memit zbadaj czas działania oraz zużycie pamięci funkcji z Zadania 4 w zalożności od różnych wartości $n$.     \n",
    "Sporządź wykresy:\n",
    "- czasu obliczenia danego przybliżenia liczby pi w zależności od $n$. \n",
    "W tym celu wykorzystaj funkcje [errorbar](https://matplotlib.org/3.1.1/api/_as_gen/matplotlib.pyplot.errorbar.html) oraz zwracane przez *timeit* wartości średnie oraz ich odchylenie standardowe. \n",
    "- błędu bezwzględnego przybliżenia liczby pi od czasu jego wykonania.\n",
    "\n",
    "\n",
    "\n",
    "**Wskazówka** Użyj opcji -o (output) dla *timeit* aby zapisać wynik do zmiennej. Opcje -r (runs) i -n (ilość pentli) decydują o ilości wykonanych prób.     \n",
    "Do wizualizacji wyników użyj skali logarytmicznej."
   ]
  },
  {
   "cell_type": "code",
   "execution_count": 25,
   "outputs": [
    {
     "name": "stdout",
     "output_type": "stream",
     "text": [
      "229 ns ± 152 ns per loop (mean ± std. dev. of 10 runs, 50 loops each)\n",
      "1.06 µs ± 100 ns per loop (mean ± std. dev. of 10 runs, 50 loops each)\n",
      "1.35 µs ± 205 ns per loop (mean ± std. dev. of 10 runs, 50 loops each)\n",
      "2.43 µs ± 1.2 µs per loop (mean ± std. dev. of 10 runs, 50 loops each)\n",
      "1.66 µs ± 44.4 ns per loop (mean ± std. dev. of 10 runs, 50 loops each)\n",
      "1.93 µs ± 247 ns per loop (mean ± std. dev. of 10 runs, 50 loops each)\n",
      "2.11 µs ± 179 ns per loop (mean ± std. dev. of 10 runs, 50 loops each)\n",
      "2.46 µs ± 445 ns per loop (mean ± std. dev. of 10 runs, 50 loops each)\n",
      "2.57 µs ± 372 ns per loop (mean ± std. dev. of 10 runs, 50 loops each)\n",
      "2.74 µs ± 348 ns per loop (mean ± std. dev. of 10 runs, 50 loops each)\n",
      "2.84 µs ± 31.5 ns per loop (mean ± std. dev. of 10 runs, 50 loops each)\n",
      "3.16 µs ± 254 ns per loop (mean ± std. dev. of 10 runs, 50 loops each)\n",
      "3.33 µs ± 308 ns per loop (mean ± std. dev. of 10 runs, 50 loops each)\n",
      "5.35 µs ± 1.76 µs per loop (mean ± std. dev. of 10 runs, 50 loops each)\n",
      "3.77 µs ± 282 ns per loop (mean ± std. dev. of 10 runs, 50 loops each)\n",
      "5.08 µs ± 1.14 µs per loop (mean ± std. dev. of 10 runs, 50 loops each)\n",
      "4.17 µs ± 326 ns per loop (mean ± std. dev. of 10 runs, 50 loops each)\n",
      "4.81 µs ± 635 ns per loop (mean ± std. dev. of 10 runs, 50 loops each)\n",
      "4.46 µs ± 50.9 ns per loop (mean ± std. dev. of 10 runs, 50 loops each)\n",
      "5.34 µs ± 1.1 µs per loop (mean ± std. dev. of 10 runs, 50 loops each)\n",
      "5.89 µs ± 1.96 µs per loop (mean ± std. dev. of 10 runs, 50 loops each)\n",
      "6.55 µs ± 2.44 µs per loop (mean ± std. dev. of 10 runs, 50 loops each)\n",
      "6.85 µs ± 1.47 µs per loop (mean ± std. dev. of 10 runs, 50 loops each)\n",
      "5.76 µs ± 338 ns per loop (mean ± std. dev. of 10 runs, 50 loops each)\n",
      "5.96 µs ± 262 ns per loop (mean ± std. dev. of 10 runs, 50 loops each)\n",
      "6.04 µs ± 42.1 ns per loop (mean ± std. dev. of 10 runs, 50 loops each)\n",
      "6.24 µs ± 41.3 ns per loop (mean ± std. dev. of 10 runs, 50 loops each)\n",
      "6.58 µs ± 319 ns per loop (mean ± std. dev. of 10 runs, 50 loops each)\n",
      "6.66 µs ± 106 ns per loop (mean ± std. dev. of 10 runs, 50 loops each)\n",
      "6.9 µs ± 69.1 ns per loop (mean ± std. dev. of 10 runs, 50 loops each)\n",
      "7.09 µs ± 52.7 ns per loop (mean ± std. dev. of 10 runs, 50 loops each)\n",
      "7.32 µs ± 124 ns per loop (mean ± std. dev. of 10 runs, 50 loops each)\n",
      "7.53 µs ± 74.3 ns per loop (mean ± std. dev. of 10 runs, 50 loops each)\n",
      "7.71 µs ± 34.2 ns per loop (mean ± std. dev. of 10 runs, 50 loops each)\n",
      "7.94 µs ± 46.2 ns per loop (mean ± std. dev. of 10 runs, 50 loops each)\n",
      "8.17 µs ± 87.5 ns per loop (mean ± std. dev. of 10 runs, 50 loops each)\n",
      "10 µs ± 1.7 µs per loop (mean ± std. dev. of 10 runs, 50 loops each)\n",
      "8.55 µs ± 37 ns per loop (mean ± std. dev. of 10 runs, 50 loops each)\n",
      "9.02 µs ± 433 ns per loop (mean ± std. dev. of 10 runs, 50 loops each)\n",
      "9 µs ± 205 ns per loop (mean ± std. dev. of 10 runs, 50 loops each)\n",
      "9.22 µs ± 77.4 ns per loop (mean ± std. dev. of 10 runs, 50 loops each)\n",
      "9.48 µs ± 238 ns per loop (mean ± std. dev. of 10 runs, 50 loops each)\n",
      "9.55 µs ± 51.5 ns per loop (mean ± std. dev. of 10 runs, 50 loops each)\n",
      "9.75 µs ± 37.7 ns per loop (mean ± std. dev. of 10 runs, 50 loops each)\n",
      "10.1 µs ± 467 ns per loop (mean ± std. dev. of 10 runs, 50 loops each)\n",
      "10.3 µs ± 248 ns per loop (mean ± std. dev. of 10 runs, 50 loops each)\n",
      "10.4 µs ± 90.8 ns per loop (mean ± std. dev. of 10 runs, 50 loops each)\n",
      "10.7 µs ± 506 ns per loop (mean ± std. dev. of 10 runs, 50 loops each)\n",
      "10.9 µs ± 257 ns per loop (mean ± std. dev. of 10 runs, 50 loops each)\n",
      "11.1 µs ± 242 ns per loop (mean ± std. dev. of 10 runs, 50 loops each)\n"
     ]
    },
    {
     "data": {
      "text/plain": "<Figure size 432x288 with 1 Axes>",
      "image/png": "[encoded data removed]"
     },
     "metadata": {
      "needs_background": "light"
     },
     "output_type": "display_data"
    },
    {
     "data": {
      "text/plain": "<Figure size 432x288 with 1 Axes>",
      "image/png": "[encoded data removed]"
     },
     "metadata": {
      "needs_background": "light"
     },
     "output_type": "display_data"
    }
   ],
   "source": [
    "time = np.zeros(50)\n",
    "dev = np.zeros(50)\n",
    "y = np.arange(0,50,1)\n",
    "error = np.zeros(50)\n",
    "\n",
    "for i in range(50):\n",
    "    exec_timeit = %timeit -r 10 -n 50 -o main.pi(i)\n",
    "    time[i] = exec_timeit.average\n",
    "    dev[i] = exec_timeit.stdev\n",
    "    error[i] = main.absolut_error(np.pi, main.pi(i))\n",
    "\n",
    "plt.errorbar(y, time, yerr=dev, ls=\"none\", marker=\"o\", color = 'black')\n",
    "plt.title(\"Czas obliczenia w zaleznosci od N\")\n",
    "plt.xlabel(\"N\")\n",
    "plt.ylabel(\"Czas [µs]\")\n",
    "plt.grid()\n",
    "plt.show()\n",
    "\n",
    "plt.semilogy(time, error, \"o\", color = 'green')\n",
    "plt.title(\"Blad bezwzgledny w funkcji czasu\")\n",
    "plt.xlabel(\"Czas wykonywania [µs]\")\n",
    "plt.ylabel(\"Błąd bezwzględny\")\n",
    "plt.grid()\n",
    "plt.show()\n"
   ],
   "metadata": {
    "collapsed": false,
    "pycharm": {
     "name": "#%%\n"
    }
   }
  },
  {
   "cell_type": "markdown",
   "source": [
    "Wykonane zadania zwróciły uwagę na istotność uwzględniania błędów obcięcia i zaokrąglenia oraz możliwości ich minimalizacji.\n",
    "Niestety błędy numeryczne są nieodłączną częścią wykonywanych przez komputer operacji - ze względu na skończone zasoby.\n"
   ],
   "metadata": {
    "collapsed": false,
    "pycharm": {
     "name": "#%% md\n"
    }
   }
  }
 ],
 "metadata": {
  "kernelspec": {
   "display_name": "Python 3",
   "language": "python",
   "name": "python3"
  },
  "language_info": {
   "codemirror_mode": {
    "name": "ipython",
    "version": 3
   },
   "file_extension": ".py",
   "mimetype": "text/x-python",
   "name": "python",
   "nbconvert_exporter": "python",
   "pygments_lexer": "ipython3",
   "version": "3.8.5-final"
  }
 },
 "nbformat": 4,
 "nbformat_minor": 2
}