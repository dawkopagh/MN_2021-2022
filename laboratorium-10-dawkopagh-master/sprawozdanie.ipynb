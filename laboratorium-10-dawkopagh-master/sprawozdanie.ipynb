{
 "cells": [
  {
   "cell_type": "markdown",
   "metadata": {},
   "source": [
    "# <center>Laboratorium 10<br>Metody Numeryczne</center>"
   ]
  },
  {
   "cell_type": "markdown",
   "metadata": {},
   "source": [
    "Instrukcja:  \n",
    "Na zajęciach należy wykonać poniższe zadania, uzupełnić plik main.py, wykonać test na platformie github, a następnie sporządzić sprawozdanie zawierające odpowiedzi z komentarzami."
   ]
  },
  {
   "cell_type": "markdown",
   "metadata": {},
   "source": [
    "***Materiały przygotowujące:***\n"
   ]
  },
  {
   "cell_type": "code",
   "execution_count": 1,
   "metadata": {},
   "outputs": [],
   "source": [
    "import main\n",
    "import numpy as np\n",
    "import scipy\n",
    "import matplotlib\n",
    "import matplotlib.pyplot as plt\n",
    "import scipy.linalg\n",
    "from numpy.polynomial import polynomial as P"
   ]
  },
  {
   "cell_type": "markdown",
   "metadata": {},
   "source": [
    "**Cel zajęć:** Celem zajęć jest zapoznanie się z numerycznymi metodami rozwiązywania równań nieliniowych lub inaczej mówiąc metodami znajdowania miejsc zerowych funkcji.\n",
    "W związku z tym podczas zajęć będziemy rozważać następujący problem:\n",
    "\n",
    "Dana jest funkcja $f(x)$, należy wyznaczyć argumenty funkcji $x$, dla których $f(x) = 0$ (funkcja jest równa zero). \n",
    "\n",
    "Argumenty $x^*$, dla których $f(x)=0$ nazywamy *pierwiastkami*.\n",
    "\n",
    "Funkcja i jej pochodne zostały zaimplementowane w *main.py*"
   ]
  },
  {
   "cell_type": "markdown",
   "metadata": {},
   "source": [
    "***Zadanie 1.***  \n",
    "Dany jest wielomian postaci $W(x)=(x-1)(x-2)\\cdot \\ldots \\cdot (x-20)$.\n",
    "\n",
    "1. Zdefinuj funkcję *polly_A*, która obliczy współczynniki wielomianu $a_i$ w postaci ogólnej wielomianu $w(x)=a_nx^n+\\ldots +a_2x^2+a_1x+1$. Skonstruuj wektor tych współczynników. Użyj funkcji [polyfromroots](https://docs.scipy.org/doc/numpy-1.13.0/reference/generated/numpy.polynomial.polynomial.polyfromroots.html#numpy.polynomial.polynomial.polyfromroots) oraz *linspace*.\n",
    "2. Zdefinuj funkcję *roots_20*, która w pętli 20 iteracji będzie:  \n",
    "\n",
    "   i. konstruować wektor współczynników nowego wielomianu w następujący sposób: do każdego wygenerowanego wektora współczynników dodać losową wartość w postaci $(10^{-10})N(0,1)$. Użyj funkcji [random_sample](https://docs.scipy.org/doc/numpy-1.15.1/reference/generated/numpy.random.random_sample.html#numpy.random.random_sample).  \n",
    "  ii. wyliczyać pierwiaski tego wielomianu za pomocą metody [polyroots](https://docs.scipy.org/doc/numpy/reference/generated/numpy.polynomial.polynomial.polyroots.html#numpy.polynomial.polynomial.polyroots).\n",
    "\n",
    "3. Narysuj na wykresie te pierwiastki (w każdej iteracji dorysowywać pierwiastki na tym samym rysunku).\n",
    "4. Określić, który pierwiastek jest najbardziej wrażliwy na zaburzenia.\n",
    "5. Zaproponować sposób oszacowania uwarunkowania każdego z pierwiastków."
   ]
  },
  {
   "cell_type": "code",
   "execution_count": 14,
   "outputs": [
    {
     "name": "stderr",
     "output_type": "stream",
     "text": [
      "C:\\Program Files\\Python39\\lib\\site-packages\\matplotlib\\collections.py:206: ComplexWarning: Casting complex values to real discards the imaginary part\n",
      "  offsets = np.asanyarray(offsets, float)\n"
     ]
    },
    {
     "data": {
      "text/plain": "<matplotlib.collections.PathCollection at 0x2013aec18e0>"
     },
     "execution_count": 14,
     "metadata": {},
     "output_type": "execute_result"
    },
    {
     "data": {
      "text/plain": "<Figure size 432x288 with 1 Axes>",
      "image/png": "[encoded data removed]"
     },
     "metadata": {
      "needs_background": "light"
     },
     "output_type": "display_data"
    }
   ],
   "source": [
    "W = np.linspace(1, 20, 20)\n",
    "\n",
    "poly = main.polly_A(W)\n",
    "\n",
    "iteration_roots = []\n",
    "\n",
    "for i in range(21):\n",
    "    coeff,sample_roots = main.roots_20(poly)\n",
    "    iteration_roots.append(sample_roots)\n",
    "    poly = coeff\n",
    "\n",
    "roots = np.array(iteration_roots)\n",
    "plt.scatter(W, sample_roots)"
   ],
   "metadata": {
    "collapsed": false,
    "pycharm": {
     "name": "#%%\n"
    }
   }
  },
  {
   "cell_type": "code",
   "execution_count": 11,
   "outputs": [
    {
     "data": {
      "text/plain": "Text(0.5, 0, 'Pierwiastek')"
     },
     "execution_count": 11,
     "metadata": {},
     "output_type": "execute_result"
    },
    {
     "data": {
      "text/plain": "<Figure size 432x288 with 1 Axes>",
      "image/png": "[encoded data removed]"
     },
     "metadata": {
      "needs_background": "light"
     },
     "output_type": "display_data"
    }
   ],
   "source": [
    "x = np.linspace(1,20,20)\n",
    "dev = []\n",
    "for col in range(roots.shape[0] - 1):\n",
    "    dev.append(np.std(roots[:,col]))\n",
    "\n",
    "plt.bar(x,dev)\n",
    "plt.title(\"Zaburzenie pierwiastków\")\n",
    "plt.ylabel(\"Miara zaburzenia\")\n",
    "plt.xlabel(\"Pierwiastek\")"
   ],
   "metadata": {
    "collapsed": false,
    "pycharm": {
     "name": "#%%\n"
    }
   }
  },
  {
   "cell_type": "markdown",
   "source": [
    "1. Pierwiastki od 1 do 9 nie podlegają zaburzeniom.\n",
    "2. Najbardziej zaburzony wydaje się być pierwiastek 18.\n",
    "3. Sprawdzić moduł różnicy wartości wielomianu o niezaburzonym i zaburzonym pierwiastku badanym."
   ],
   "metadata": {
    "collapsed": false,
    "pycharm": {
     "name": "#%% md\n"
    }
   }
  },
  {
   "cell_type": "markdown",
   "metadata": {},
   "source": [
    "***Zadanie 2.***  \n",
    "Dany jest wielomian $w_1(x)=(x-1)^8$. Wyznacz numerycznie miejsca zerowego tego wielomianu poprzez wyznaczenie wartości własnych macierzy Frobeniusa. W związku z tym wykonaj następujące czynności:  \n",
    "\n",
    "1. Zaiplementuj funkcję tworzącą [macierz Frobenusa](https://github.com/KAIR-ISZ/public_lectures/blob/master/Metody%20Numeryczne%202019/Lecture%204%20(nonlinear%20equations)/Metody%20numeryczne%202019%20-%20R%C3%B3wnania%20nieliniowe.pdf) *frob_a*, dla zadanego wektora współczynników wielomianu $w(x)$.  \n",
    "2. Wyznacz wartości własne przekształconej macierzy za pomocą funkcji [eigvals](https://docs.scipy.org/doc/numpy/reference/generated/numpy.linalg.eigvals.html#numpy.linalg.eigvals).  \n",
    "3. Dokonaj rozkładu Schura macierzy zdefiniowanej w punkcie 1. użyj funkcji [schure](https://docs.scipy.org/doc/scipy-0.14.0/reference/generated/scipy.linalg.schur.html#scipy.linalg.schur).  \n",
    "4. Porównaj wyniki z funkcją polyroots."
   ]
  },
  {
   "cell_type": "code",
   "execution_count": 15,
   "outputs": [
    {
     "data": {
      "text/plain": "<Figure size 432x288 with 1 Axes>",
      "image/png": "[encoded data removed]"
     },
     "metadata": {
      "needs_background": "light"
     },
     "output_type": "display_data"
    },
    {
     "name": "stdout",
     "output_type": "stream",
     "text": [
      "Uwarunkowanie macierzy Frobeniusa - cond =  12869.999922299921\n"
     ]
    }
   ],
   "source": [
    "W = np.ones(8)\n",
    "poly = main.polly_A(W)\n",
    "\n",
    "frob_matrix, eig, shur, poly_from = main.frob_a(poly[:-1])\n",
    "\n",
    "x = np.arange(3)\n",
    "roots = np.sort(P.polyroots(poly))\n",
    "error_norms = [np.linalg.norm(roots - W), np.linalg.norm(roots - np.sort(eig)), np.linalg.norm(roots - np.sort(np.diag(shur[0])))]\n",
    "\n",
    "plt.bar(x, error_norms)\n",
    "plt.xticks(x, ('Analityczne', 'Wartości własne', 'Rozkład Shura'))\n",
    "plt.title(\"Błąd medotd w porównaniu z Polyroots\")\n",
    "plt.ylabel(\"Wartość błędu\")\n",
    "plt.show()\n",
    "print(f\"Uwarunkowanie macierzy Frobeniusa =  {np.linalg.cond(frob_matrix)}\")"
   ],
   "metadata": {
    "collapsed": false,
    "pycharm": {
     "name": "#%%\n"
    }
   }
  },
  {
   "cell_type": "markdown",
   "source": [
    "Wyniki są do siebie zbliżone. Spory błąd może wynikać ze złego uwarunkowania macierzy Frobeniusa."
   ],
   "metadata": {
    "collapsed": false,
    "pycharm": {
     "name": "#%% md\n"
    }
   }
  },
  {
   "cell_type": "markdown",
   "metadata": {},
   "source": [
    "***Zadanie 3.***  \n",
    "Dla danego wielomianu $w_2(x) = 243x^7-486x^6+783x^5-990x^4+558x^3-28x^2-72x+16$ wyznacz miejsca zerowe numerycznie, w taki sam sposób jak w zadaniu 2."
   ]
  },
  {
   "cell_type": "code",
   "execution_count": 16,
   "outputs": [
    {
     "data": {
      "text/plain": "<Figure size 432x288 with 1 Axes>",
      "image/png": "[encoded data removed]"
     },
     "metadata": {
      "needs_background": "light"
     },
     "output_type": "display_data"
    },
    {
     "name": "stdout",
     "output_type": "stream",
     "text": [
      "Uwarunkowanie macierzy Frobeniusa - cond =  567.3907272580342\n"
     ]
    }
   ],
   "source": [
    "W = np.array([16, -72, -28, 558, -990, 783, -486, 243])\n",
    "poly = W / 243\n",
    "\n",
    "frob_matrix, eig, shur, poly_from = main.frob_a(poly[:-1])\n",
    "\n",
    "shur = scipy.linalg.schur(frob_matrix, output='complex')\n",
    "\n",
    "x = np.arange(2)\n",
    "roots = np.sort(P.polyroots(poly))\n",
    "error_norms = [np.linalg.norm(roots - np.sort(eig)), np.linalg.norm(roots - np.sort(np.diag(shur[0])))]\n",
    "\n",
    "plt.bar(x, error_norms)\n",
    "plt.xticks(x, ('Wartości własne', 'Rozkład Shura'))\n",
    "plt.title(\"Błąd metod w porównaniu z Polyroots\")\n",
    "plt.ylabel(\"Wartość błędu\")\n",
    "plt.yscale('log')\n",
    "plt.show()\n",
    "\n",
    "print(f\"Uwarunkowanie macierzy Frobeniusa - cond =  {np.linalg.cond(frob_matrix)}\")"
   ],
   "metadata": {
    "collapsed": false,
    "pycharm": {
     "name": "#%%\n"
    }
   }
  },
  {
   "cell_type": "markdown",
   "source": [
    "Metody generują podobne wyniki, uwarunkowanie macierzy Frobeniusa w tym przypadku także jest spore."
   ],
   "metadata": {
    "collapsed": false,
    "pycharm": {
     "name": "#%% md\n"
    }
   }
  },
  {
   "cell_type": "markdown",
   "metadata": {},
   "source": [
    "***Zadanie 4.***\n",
    "\n",
    "Dany jest wielomian: \n",
    "$$\n",
    "w_3(x)= x^5 - 156x^4 - 5x^3 + 780x^2 + 4x - 624\n",
    "$$.\n",
    " Wiedząc, że wielomian ten w postaci szeregu Czebyszewa jest następujący \n",
    " $$w_3(x)= (a_0+\\frac{a_2}{2}+ \\frac{3a_4}{4})T_0(x)+(a_1+\\frac{3a_3}{4}+ \\frac{5a_5}{8})T_1(x)+(\\frac{a_2}{2}+ \\frac{a_4}{4})T_2(x)+(\\frac{a_3}{4}+ \\frac{5a_5}{16})T_3(x)+ (\\frac{a_4}{8})T_4 + (\\frac{a_5}{16})T_5(x)$$ \n",
    " znajdź pierwiastki wykorzystując funkcję [chebroots](https://numpy.org/doc/stable/reference/generated/numpy.polynomial.chebyshev.chebroots.html)."
   ]
  },
  {
   "cell_type": "code",
   "execution_count": 17,
   "metadata": {},
   "outputs": [],
   "source": [
    "def w3(a, x):\n",
    "    return a[5] * x**5 + a[4] * x**4 + a[3] * x**3 + a[2] * x**2 + a[1] * x + a[0]"
   ]
  },
  {
   "cell_type": "code",
   "execution_count": 18,
   "outputs": [],
   "source": [
    "a = np.array([-624, 4, 780, -5, -156, 1])\n",
    "a = np.flip(a)\n",
    "roots =np.sort(P.polyroots(a))\n",
    "\n",
    "coef = np.array([a[0] + a[2] / 2 + 3 * a[4] / 4, a[1] + 3 * a[3] /4 + 5 * a[5] / 8, a[2]/2 + a[4]/4, a[3]/4 + 5*a[5]/16,a[4]/8, a[5]/16])\n",
    "cheb_roots = np.sort(np.polynomial.chebyshev.chebroots(coef))\n"
   ],
   "metadata": {
    "collapsed": false,
    "pycharm": {
     "name": "#%%\n"
    }
   }
  },
  {
   "cell_type": "code",
   "execution_count": 19,
   "outputs": [
    {
     "name": "stdout",
     "output_type": "stream",
     "text": [
      "[1.42108547e-13 4.26325641e-14 5.55111512e-16 0.00000000e+00\n",
      " 2.84217094e-13] [0.50213639 1.98334657 2.4989902  2.0175818  0.49786285]\n"
     ]
    },
    {
     "data": {
      "text/plain": "<Figure size 432x288 with 1 Axes>",
      "image/png": "[encoded data removed]"
     },
     "metadata": {
      "needs_background": "light"
     },
     "output_type": "display_data"
    }
   ],
   "source": [
    "labels = ['x1', 'x2', 'x3', 'x4', 'x5']\n",
    "\n",
    "roots_from_polyfromroots = w3(a, roots)\n",
    "roots_from_cheb = w3(a, cheb_roots)\n",
    "\n",
    "root1 = np.abs(roots_from_polyfromroots)\n",
    "root2 = np.abs(roots_from_cheb)\n",
    "print(root1, root2)\n",
    "\n",
    "x = np.arange(len(labels))\n",
    "width = 0.35\n",
    "\n",
    "fig, ax = plt.subplots()\n",
    "rects1 = ax.bar(x - width/2, root1, width, label='Polyroots')\n",
    "rects2 = ax.bar(x + width/2, root2, width, label='Chebroots')\n",
    "\n",
    "plt.yscale(\"log\")\n",
    "ax.set_ylabel('Błąd')\n",
    "ax.set_title('Porównanie wartości pierwiastków uzyskanych dzięki Polyfromroots i Chebroots')\n",
    "ax.set_xticks(x)\n",
    "ax.set_xticklabels(labels)\n",
    "ax.legend()\n",
    "ax.grid()\n",
    "\n",
    "plt.show()"
   ],
   "metadata": {
    "collapsed": false,
    "pycharm": {
     "name": "#%%\n"
    }
   }
  },
  {
   "cell_type": "markdown",
   "source": [
    "Najlepsza znów okazała się metoda Polyroots, która jest dokładniejsza nawet o kilkanaście rzędów wielkości od Chebroots.\n"
   ],
   "metadata": {
    "collapsed": false,
    "pycharm": {
     "name": "#%% md\n"
    }
   }
  }
 ],
 "metadata": {
  "kernelspec": {
   "display_name": "Python 3",
   "language": "python",
   "name": "python3"
  },
  "language_info": {
   "codemirror_mode": {
    "name": "ipython",
    "version": 3
   },
   "file_extension": ".py",
   "mimetype": "text/x-python",
   "name": "python",
   "nbconvert_exporter": "python",
   "pygments_lexer": "ipython3",
   "version": "3.7.7"
  }
 },
 "nbformat": 4,
 "nbformat_minor": 2
}