{
 "cells": [
  {
   "cell_type": "markdown",
   "metadata": {},
   "source": [
    "# <center>Rozwiązywanie układów równań</center>\n",
    "# <center>Metody iteracyjne</center>"
   ]
  },
  {
   "cell_type": "markdown",
   "metadata": {},
   "source": [
    "Instrukcja:\n",
    "Na zajęciach należy wykonać poniższe zadania, a następnie sporządzić sprawozdanie zawierające odpowiedzi (w postaci kodu) z komentarzami w środowisku Jupyter Notebook i umieścić je na platformie e-learningowej.   "
   ]
  },
  {
   "cell_type": "code",
   "execution_count": 2,
   "metadata": {},
   "outputs": [],
   "source": [
    "import main\n",
    "import scipy as sp\n",
    "import numpy as np\n",
    "import scipy.sparse.linalg as sp_linalg\n",
    "import numpy.linalg as np_linalg\n",
    "import matplotlib\n",
    "import matplotlib.pyplot as plt"
   ]
  },
  {
   "cell_type": "markdown",
   "metadata": {},
   "source": [
    "**Cel zajęć:**  \n",
    "Celem zajęć jest zapoznanie się z iteracyjnymi metodami rozwiązywania układów równań liniowych w postaci macierzowej. Metody iteracyjne, w przeciwieństwie do analitycznych, nie zwracają dokładnego rozwiązania, a jedynie jego przybliżenie. Przy spełnionych kryteriach, przybliżenia obliczane w kolejnych iteracjach są zbieżne do dokładnego rozwiązania. Metody iteracyjne znajdują swoje zastosowanie szczególnie przy dużych układach równań postaci: \n",
    "   \n",
    "$\n",
    "\\mathbf{Ax}=\\mathbf{b}\n",
    "$ \n",
    "  \n",
    "gdzie $\\mathbf{A}$ to macierz współczynników z lewej strony równania, wektor $\\mathbf{x}$ jest wektorem zmiennych a wektor $\\mathbf{b}$ wyników prawej strony równania.  \n",
    "\n",
    "Do oceny jakości rozwiązania będziemy wykorzystywać residuum (ang. *residual*)\n",
    "$\n",
    "\\mathbf{r}=\\mathbf{b}-\\mathbf{Ax}\n",
    "$ \n",
    "  "
   ]
  },
  {
   "source": [
    "***Zadanie 1***   \n",
    "Zdefiniuję funkcję *diag_dominant_matrix_A_b*, przyjmującą paramter całkowity $m>0$ która zwróci:\n",
    "- macierz diagonalnie zdominowana $\\mathbf{A}$ o wymiarach $m \\times m$ (wyrazy na przekątnej sa wieksze co do modułu od sumy pozostałych w danej kolumnie i wierszu)\n",
    "- wektor $\\mathbf{b}$ o wymiarach $m \\times 1$ \n",
    " \n",
    "o losowych wartościach całkowitych\n",
    "\n",
    "Dodatkowo zdefiniuj funkcje *is_diag_dominant* sprawdzającą czy zadana macierz jest diagonalnie zdominowana"
   ],
   "cell_type": "markdown",
   "metadata": {}
  },
  {
   "source": [
    "***Zadanie 2***   \n",
    "Zdefiniuję funkcję *symmetric_matrix_A_b*, przyjmującą paramter całkowity $m>0$ która zwróci:\n",
    "- symetryczną macierz $\\mathbf{A}$ o wymiarach $m \\times m$ (wyrazy symetryczne względnej przekątnej są sobie równe)\n",
    "- wektor $\\mathbf{b}$ o wymiarach $m \\times 1$ \n",
    " \n",
    "o losowych wartościach całkowitych\n",
    "\n",
    "Dodatkowo zdefiniuj funkcje is_symmetric sprawdzającą czy zadana macierz jest symetryczna"
   ],
   "cell_type": "markdown",
   "metadata": {}
  },
  {
   "source": [
    "***Zadanie 3***   \n",
    "Zdefiniuję następujące układy równań:\n",
    "\n",
    "a) $\\mathbf{A_1}$, $\\mathbf{b_1}$: gdzie $\\mathbf{A_1}$ jest macierzą o wymiarach $m \\times m$, a $\\mathbf{b_1}$ wektorem $m \\times 1$, $m = 10$\n",
    "\n",
    "b) $\\mathbf{A_2}$, $\\mathbf{b_2}$: gdzie $\\mathbf{A_2}$ jest macierzą **diagonalnie zdominowaną** o wymiarach$m \\times m$, a $\\mathbf{b_2}$ wektorem $m \\times 1$, $m = 10$\n",
    " \n",
    "c) $\\mathbf{A_3}$, $\\mathbf{b_3}$: gdzie $\\mathbf{A_3}$ jest macierzą **symetryczną** o wymiarach $m \\times m$, a $\\mathbf{b_3}$ wektorem $m \\times 1$, $m = 10$   \n",
    " \n",
    "**Wskazówka**: Do generacji macierzy użyj metody *random_matrix_Ab* z lab6 oraz metod *diag_dominant_matrix_A_b* i *symmetric_matrix_A_b*"
   ],
   "cell_type": "markdown",
   "metadata": {}
  },
  {
   "cell_type": "code",
   "execution_count": 139,
   "outputs": [],
   "source": [
    "def residual_norm(A, b, x):\n",
    "    return np.linalg.norm(b - A @ x)\n",
    "\n",
    "#a)\n",
    "m = 10\n",
    "A1, b1 = main.random_matrix_Ab(m)\n",
    "#b)\n",
    "A2, b2 = main.diag_dominant_matrix_A_b(m)\n",
    "#c)\n",
    "A3, b3 = main.symmetric_matrix_A_b(m)"
   ],
   "metadata": {
    "collapsed": false,
    "pycharm": {
     "name": "#%%\n"
    }
   }
  },
  {
   "source": [
    "***Zadanie 4***   \n",
    "Zaimplementuj iteracyjną metodę *solve_jacobi*, rozwiązującą układ równań metodą Jacobiego zgodnie z dokumentacją w pliku *main.py*.\n",
    "Szczegóły metody zostały przedstawione na wykładzie."
   ],
   "cell_type": "markdown",
   "metadata": {}
  },
  {
   "source": [
    "***Zadanie 5***   \n",
    "Rozwiąż układ równań z Zadania 3 podpunkt a) przy pomocy:\n",
    "\n",
    "- funkcji *[solve](https://docs.scipy.org/doc/numpy-1.15.1/reference/generated/numpy.linalg.solve.html?highlight=solve#numpy.linalg.solve)* z biblioteki numpy\n",
    "\n",
    "- zaimplementowanej iteracyjnej metody *solve_jacobi*\n",
    "\n",
    "- iteracyjnej metody *[gradientów sprzężonych](https://docs.scipy.org/doc/scipy/reference/generated/scipy.sparse.linalg.cg.html)*\n",
    " z biblioteki scipy\n",
    "\n",
    "- iteracyjnej metody *[GMRES](https://docs.scipy.org/doc/scipy/reference/generated/scipy.sparse.linalg.gmres.html)*\n",
    " z biblioteki scipy\n",
    "\n",
    "Przed każdą metodą sprawdź czy warunki dotyczące macierzy dla danej metody są spełnione. Zbadaj dokładność i czas obliczeń metod w zależności od liczby iteracji. Wyniki przedstaw na wykresach."
   ],
   "cell_type": "markdown",
   "metadata": {}
  },
  {
   "cell_type": "markdown",
   "source": [
    "**Metoda Solve**"
   ],
   "metadata": {
    "collapsed": false,
    "pycharm": {
     "name": "#%% md\n"
    }
   },
   "execution_count": 13
  },
  {
   "cell_type": "code",
   "execution_count": 140,
   "outputs": [
    {
     "name": "stdout",
     "output_type": "stream",
     "text": [
      "Norma dla metody solve: 2.745491526406121e-13\n"
     ]
    }
   ],
   "source": [
    "#1.\n",
    "res = np.linalg.solve(A1, b1)\n",
    "print(\"Norma dla metody solve:\", residual_norm(A1, b1, res))"
   ],
   "metadata": {
    "collapsed": false,
    "pycharm": {
     "name": "#%%\n"
    }
   }
  },
  {
   "cell_type": "markdown",
   "source": [
    "**Metoda iteracyjna jacobiego**\n",
    "\n",
    "Macierz nie jest diagonalnie zdominowana - nie można zastosować metody."
   ],
   "metadata": {
    "collapsed": false,
    "pycharm": {
     "name": "#%% md\n"
    }
   }
  },
  {
   "cell_type": "markdown",
   "source": [
    "**Metoda gradientów sprzężonych**\n",
    "\n",
    "Nie można zastosować metody - macierz nie jest symetryczna i dodatnio określona"
   ],
   "metadata": {
    "collapsed": false,
    "pycharm": {
     "name": "#%% md\n"
    }
   }
  },
  {
   "cell_type": "markdown",
   "source": [
    "**Metoda GMRES**"
   ],
   "metadata": {
    "collapsed": false,
    "pycharm": {
     "name": "#%% md\n"
    }
   }
  },
  {
   "cell_type": "code",
   "execution_count": 141,
   "outputs": [
    {
     "name": "stdout",
     "output_type": "stream",
     "text": [
      "Analiza dokładności\n",
      "0\n"
     ]
    },
    {
     "data": {
      "text/plain": "<Figure size 432x288 with 1 Axes>",
      "image/png": "[encoded data removed]"
     },
     "metadata": {
      "needs_background": "light"
     },
     "output_type": "display_data"
    }
   ],
   "source": [
    "resid = []\n",
    "def callback_resid(Xn):\n",
    "    resid.append(Xn)\n",
    "\n",
    "print(\"Analiza dokładności\")\n",
    "\n",
    "res, info = sp.sparse.linalg.gmres(A1, b1, maxiter = 10, atol=1.0e-16, callback=callback_resid, callback_type='pr_norm')\n",
    "print(info)\n",
    "resid.pop(-1)\n",
    "num_of_iterations = len(resid)\n",
    "x = [i+1 for i in range(num_of_iterations)]\n",
    "plt.scatter(x, resid)\n",
    "plt.grid()\n",
    "plt.yscale(\"log\")\n",
    "plt.title(\"Metoda GMRES - dokładność w zależności od liczby iteracji\")\n",
    "plt.xlabel(\"Ilość iteracji\")\n",
    "plt.ylabel(\"Norma residuum\")\n",
    "\n",
    "plt.show()"
   ],
   "metadata": {
    "collapsed": false,
    "pycharm": {
     "name": "#%%\n"
    }
   }
  },
  {
   "cell_type": "code",
   "source": [
    "print(\"Analiza czasowa\")\n",
    "\n",
    "time = []\n",
    "error = []\n",
    "size = 15\n",
    "for iter in range(1, size):\n",
    "    avg_time = %timeit -r 5 -n 10 -o sp.sparse.linalg.gmres(A1, b1, maxiter=iter, atol=1.0e-16)\n",
    "    time.append(avg_time.average)\n",
    "    error.append(avg_time.stdev)\n",
    "\n",
    "x = [iter for iter in range(1,size)]\n",
    "plt.errorbar(x, time, yerr=error, linestyle=\"None\", marker=\"o\")\n",
    "plt.grid()\n",
    "plt.title(\"Metoda GMRES analiza czasowa\")\n",
    "plt.xlabel(\"Liczba iteracji\")\n",
    "plt.ylabel(\"Czas wykonania [s]\")\n",
    "\n",
    "plt.show()"
   ],
   "metadata": {
    "collapsed": false,
    "pycharm": {
     "name": "#%%\n"
    }
   },
   "execution_count": 142,
   "outputs": [
    {
     "name": "stdout",
     "output_type": "stream",
     "text": [
      "Analiza czasowa\n",
      "383 µs ± 73 µs per loop (mean ± std. dev. of 5 runs, 10 loops each)\n",
      "273 µs ± 62.5 µs per loop (mean ± std. dev. of 5 runs, 10 loops each)\n",
      "238 µs ± 22.9 µs per loop (mean ± std. dev. of 5 runs, 10 loops each)\n",
      "245 µs ± 25 µs per loop (mean ± std. dev. of 5 runs, 10 loops each)\n",
      "259 µs ± 27.7 µs per loop (mean ± std. dev. of 5 runs, 10 loops each)\n",
      "255 µs ± 12 µs per loop (mean ± std. dev. of 5 runs, 10 loops each)\n",
      "225 µs ± 19.6 µs per loop (mean ± std. dev. of 5 runs, 10 loops each)\n",
      "247 µs ± 40.8 µs per loop (mean ± std. dev. of 5 runs, 10 loops each)\n",
      "241 µs ± 28.9 µs per loop (mean ± std. dev. of 5 runs, 10 loops each)\n",
      "247 µs ± 30.3 µs per loop (mean ± std. dev. of 5 runs, 10 loops each)\n",
      "274 µs ± 12.9 µs per loop (mean ± std. dev. of 5 runs, 10 loops each)\n",
      "285 µs ± 23.3 µs per loop (mean ± std. dev. of 5 runs, 10 loops each)\n",
      "284 µs ± 15.5 µs per loop (mean ± std. dev. of 5 runs, 10 loops each)\n",
      "284 µs ± 25 µs per loop (mean ± std. dev. of 5 runs, 10 loops each)\n"
     ]
    },
    {
     "data": {
      "text/plain": "<Figure size 432x288 with 1 Axes>",
      "image/png": "[encoded data removed]"
     },
     "metadata": {
      "needs_background": "light"
     },
     "output_type": "display_data"
    }
   ]
  },
  {
   "source": [
    "***Zadanie 6***     \n",
    "Rozwiąż układ równań z Zadania 3 podpunkt b) przy pomocy:\n",
    "\n",
    "- funkcji *[solve](https://docs.scipy.org/doc/numpy-1.15.1/reference/generated/numpy.linalg.solve.html?highlight=solve#numpy.linalg.solve)* z biblioteki numpy\n",
    "\n",
    "- zaimplementowanej iteracyjnej metody *solve_jacobi*\n",
    "\n",
    "- iteracyjnej metody *[gradientów sprzężonych](https://docs.scipy.org/doc/scipy/reference/generated/scipy.sparse.linalg.cg.html)*\n",
    " z biblioteki scipy\n",
    "\n",
    "- iteracyjnej metody *[GMRES](https://docs.scipy.org/doc/scipy/reference/generated/scipy.sparse.linalg.gmres.html)*\n",
    " z biblioteki scipy\n",
    "\n",
    "Przed każdą metodą sprawdź czy warunki dotyczące macierzy dla danej metody są spełnione. Zbadaj dokładność i czas obliczeń metod w zależności od liczby iteracji. Wyniki przedstaw na wykresach."
   ],
   "cell_type": "markdown",
   "metadata": {}
  },
  {
   "cell_type": "markdown",
   "source": [
    "**Metoda solve**"
   ],
   "metadata": {
    "collapsed": false,
    "pycharm": {
     "name": "#%% md\n"
    }
   }
  },
  {
   "cell_type": "code",
   "execution_count": 143,
   "outputs": [
    {
     "name": "stdout",
     "output_type": "stream",
     "text": [
      "Norma dla metody solve: 2.673771110915334e-15\n"
     ]
    }
   ],
   "source": [
    "res = np.linalg.solve(A2, b2)\n",
    "print(\"Norma dla metody solve:\", residual_norm(A2, b2, res))"
   ],
   "metadata": {
    "collapsed": false,
    "pycharm": {
     "name": "#%%\n"
    }
   }
  },
  {
   "cell_type": "markdown",
   "source": [
    "**Metoda Jacobiego**"
   ],
   "metadata": {
    "collapsed": false,
    "pycharm": {
     "name": "#%% md\n"
    }
   }
  },
  {
   "cell_type": "code",
   "execution_count": 144,
   "outputs": [
    {
     "data": {
      "text/plain": "<Figure size 432x288 with 1 Axes>",
      "image/png": "[encoded data removed]"
     },
     "metadata": {
      "needs_background": "light"
     },
     "output_type": "display_data"
    }
   ],
   "source": [
    "\"Analiza dokładności\"\n",
    "resid = []\n",
    "x_init = np.zeros((10, 1))\n",
    "_, num_of_iterations = main.solve_jacobi(A2, b2, x_init, epsilon=1.0e-16)\n",
    "x = [iter+1 for iter in range(num_of_iterations+5)]\n",
    "if main.is_diag_dominant(A2):\n",
    "    for it in x:\n",
    "        result, end_iterator = main.solve_jacobi(A2, b2, x_init, maxiter=it, epsilon=1.0e-16)\n",
    "        resid.append(residual_norm(A2, b2, result))\n",
    "\n",
    "plt.scatter(x, resid)\n",
    "plt.yscale('log')\n",
    "plt.grid()\n",
    "plt.title(\"Metoda Jacobiego\")\n",
    "plt.xlabel(\"Liczba iteracji\")\n",
    "plt.ylabel(\"Norma residuum\")\n",
    "plt.show()"
   ],
   "metadata": {
    "collapsed": false,
    "pycharm": {
     "name": "#%%\n"
    }
   }
  },
  {
   "cell_type": "code",
   "execution_count": 146,
   "outputs": [
    {
     "name": "stdout",
     "output_type": "stream",
     "text": [
      "172 µs ± 59.7 µs per loop (mean ± std. dev. of 5 runs, 10 loops each)\n",
      "244 µs ± 82.5 µs per loop (mean ± std. dev. of 5 runs, 10 loops each)\n",
      "322 µs ± 56.1 µs per loop (mean ± std. dev. of 5 runs, 10 loops each)\n",
      "411 µs ± 34.9 µs per loop (mean ± std. dev. of 5 runs, 10 loops each)\n",
      "380 µs ± 13.7 µs per loop (mean ± std. dev. of 5 runs, 10 loops each)\n",
      "387 µs ± 20.5 µs per loop (mean ± std. dev. of 5 runs, 10 loops each)\n",
      "387 µs ± 23 µs per loop (mean ± std. dev. of 5 runs, 10 loops each)\n",
      "404 µs ± 34 µs per loop (mean ± std. dev. of 5 runs, 10 loops each)\n",
      "400 µs ± 28.2 µs per loop (mean ± std. dev. of 5 runs, 10 loops each)\n",
      "389 µs ± 20.4 µs per loop (mean ± std. dev. of 5 runs, 10 loops each)\n"
     ]
    },
    {
     "data": {
      "text/plain": "<Figure size 432x288 with 1 Axes>",
      "image/png": "[encoded data removed]"
     },
     "metadata": {
      "needs_background": "light"
     },
     "output_type": "display_data"
    }
   ],
   "source": [
    "\"Analiza czasu wykonania\"\n",
    "\n",
    "time = []\n",
    "error = []\n",
    "size = [10, 20, 30, 40, 50, 60, 70, 80, 90, 100]\n",
    "for iter in size:\n",
    "    avg_time = %timeit -r 5 -n 10 -o main.solve_jacobi(A2, b2, x_init, maxiter=iter, epsilon = 1.0e-16)\n",
    "    time.append(avg_time.average)\n",
    "    error.append(avg_time.stdev)\n",
    "\n",
    "plt.errorbar(size, time, yerr=error, linestyle=\"None\", marker=\"o\")\n",
    "plt.grid()\n",
    "plt.title(\"Metoda Jacobiego analiza czasowa\")\n",
    "plt.xlabel(\"Liczba iteracji\")\n",
    "plt.ylabel(\"Czas wykonania [s]\")\n",
    "\n",
    "plt.show()"
   ],
   "metadata": {
    "collapsed": false,
    "pycharm": {
     "name": "#%%\n"
    }
   }
  },
  {
   "cell_type": "markdown",
   "source": [
    "**Metoda gradientów sprężonych**\n",
    "\n",
    "Nie można zastosować metody - macierz nie jest symetryczna i dodatnio określona"
   ],
   "metadata": {
    "collapsed": false,
    "pycharm": {
     "name": "#%% md\n"
    }
   }
  },
  {
   "cell_type": "markdown",
   "source": [
    "**Metoda GMRES**"
   ],
   "metadata": {
    "collapsed": false,
    "pycharm": {
     "name": "#%% md\n"
    }
   }
  },
  {
   "cell_type": "code",
   "execution_count": 149,
   "outputs": [
    {
     "name": "stdout",
     "output_type": "stream",
     "text": [
      "Analiza dokładności\n",
      "0\n"
     ]
    },
    {
     "data": {
      "text/plain": "<Figure size 432x288 with 1 Axes>",
      "image/png": "[encoded data removed]"
     },
     "metadata": {
      "needs_background": "light"
     },
     "output_type": "display_data"
    }
   ],
   "source": [
    "resid = []\n",
    "def callback_resid(Xn):\n",
    "    resid.append(Xn)\n",
    "\n",
    "print(\"Analiza dokładności\")\n",
    "\n",
    "res, info = sp.sparse.linalg.gmres(A2, b2, maxiter = 10, atol=1.0e-16, callback=callback_resid, callback_type='pr_norm')\n",
    "print(info)\n",
    "resid.pop(-1)\n",
    "num_of_iterations = len(resid)\n",
    "x = [i+1 for i in range(num_of_iterations)]\n",
    "plt.scatter(x, resid)\n",
    "plt.grid()\n",
    "plt.yscale(\"log\")\n",
    "plt.title(\"Metoda GMRES - dokładność w zależności od liczby iteracji\")\n",
    "plt.xlabel(\"Ilość iteracji\")\n",
    "plt.ylabel(\"Norma residuum\")\n",
    "\n",
    "plt.show()"
   ],
   "metadata": {
    "collapsed": false,
    "pycharm": {
     "name": "#%%\n"
    }
   }
  },
  {
   "cell_type": "code",
   "execution_count": 150,
   "outputs": [
    {
     "name": "stdout",
     "output_type": "stream",
     "text": [
      "Analiza czasowa\n",
      "332 µs ± 110 µs per loop (mean ± std. dev. of 5 runs, 10 loops each)\n",
      "241 µs ± 55 µs per loop (mean ± std. dev. of 5 runs, 10 loops each)\n",
      "211 µs ± 8.42 µs per loop (mean ± std. dev. of 5 runs, 10 loops each)\n",
      "206 µs ± 34.4 µs per loop (mean ± std. dev. of 5 runs, 10 loops each)\n",
      "193 µs ± 30 µs per loop (mean ± std. dev. of 5 runs, 10 loops each)\n",
      "191 µs ± 20.2 µs per loop (mean ± std. dev. of 5 runs, 10 loops each)\n",
      "183 µs ± 16.2 µs per loop (mean ± std. dev. of 5 runs, 10 loops each)\n",
      "200 µs ± 29.1 µs per loop (mean ± std. dev. of 5 runs, 10 loops each)\n",
      "194 µs ± 27.2 µs per loop (mean ± std. dev. of 5 runs, 10 loops each)\n",
      "207 µs ± 24.3 µs per loop (mean ± std. dev. of 5 runs, 10 loops each)\n",
      "219 µs ± 7.07 µs per loop (mean ± std. dev. of 5 runs, 10 loops each)\n",
      "211 µs ± 6.07 µs per loop (mean ± std. dev. of 5 runs, 10 loops each)\n",
      "211 µs ± 38.2 µs per loop (mean ± std. dev. of 5 runs, 10 loops each)\n",
      "211 µs ± 12.6 µs per loop (mean ± std. dev. of 5 runs, 10 loops each)\n"
     ]
    },
    {
     "data": {
      "text/plain": "<Figure size 432x288 with 1 Axes>",
      "image/png": "[encoded data removed]"
     },
     "metadata": {
      "needs_background": "light"
     },
     "output_type": "display_data"
    }
   ],
   "source": [
    "print(\"Analiza czasowa\")\n",
    "\n",
    "time = []\n",
    "error = []\n",
    "size = 15\n",
    "for iter in range(1, size):\n",
    "    avg_time = %timeit -r 5 -n 10 -o sp.sparse.linalg.gmres(A2, b2, maxiter=iter, atol=1.0e-16)\n",
    "    time.append(avg_time.average)\n",
    "    error.append(avg_time.stdev)\n",
    "\n",
    "x = [iter for iter in range(1,size)]\n",
    "plt.errorbar(x, time, yerr=error, linestyle=\"None\", marker=\"o\")\n",
    "plt.grid()\n",
    "plt.title(\"Metoda GMRES analiza czasowa\")\n",
    "plt.xlabel(\"Liczba iteracji\")\n",
    "plt.ylabel(\"Czas wykonania [s]\")\n",
    "\n",
    "plt.show()"
   ],
   "metadata": {
    "collapsed": false,
    "pycharm": {
     "name": "#%%\n"
    }
   }
  },
  {
   "source": [
    "***Zadanie 7***   \n",
    "Rozwiąż układ równań z Zadania 3 podpunkt c) przy pomocy:\n",
    "\n",
    "- funkcji *[solve](https://docs.scipy.org/doc/numpy-1.15.1/reference/generated/numpy.linalg.solve.html?highlight=solve#numpy.linalg.solve)* z biblioteki numpy\n",
    "\n",
    "- zaimplementowanej iteracyjnej metody *solve_jacobi*\n",
    "\n",
    "- iteracyjnej metody *[gradientów sprzężonych](https://docs.scipy.org/doc/scipy/reference/generated/scipy.sparse.linalg.cg.html)*\n",
    " z biblioteki scipy\n",
    "\n",
    "- iteracyjnej metody *[GMRES](https://docs.scipy.org/doc/scipy/reference/generated/scipy.sparse.linalg.gmres.html)*\n",
    " z biblioteki scipy\n",
    "\n",
    "Przed każdą metodą sprawdź czy warunki dotyczące macierzy dla danej metody są spełnione. Zbadaj dokładność i czas obliczeń metod w zależności od liczby iteracji. Wyniki przedstaw na wykresach.\n",
    "\n",
    "#gradienty - dla macierzy sprzężonych"
   ],
   "cell_type": "markdown",
   "metadata": {}
  },
  {
   "cell_type": "markdown",
   "source": [
    "**Metoda solve**"
   ],
   "metadata": {
    "collapsed": false,
    "pycharm": {
     "name": "#%% md\n"
    }
   }
  },
  {
   "cell_type": "code",
   "execution_count": 151,
   "outputs": [
    {
     "name": "stdout",
     "output_type": "stream",
     "text": [
      "Norma dla metody solve: 4.550560269027492e-15\n"
     ]
    }
   ],
   "source": [
    "res = np.linalg.solve(A3, b3)\n",
    "print(\"Norma dla metody solve:\", residual_norm(A3, b3, res))"
   ],
   "metadata": {
    "collapsed": false,
    "pycharm": {
     "name": "#%%\n"
    }
   }
  },
  {
   "cell_type": "markdown",
   "source": [
    "**Metoda Jacobiego**\n",
    "\n",
    "Nie możemy jej użyć - macierz nie jest diagonalnie zdominowana"
   ],
   "metadata": {
    "collapsed": false,
    "pycharm": {
     "name": "#%% md\n"
    }
   }
  },
  {
   "cell_type": "markdown",
   "source": [
    "**Metoda gradientu sprzężonego**"
   ],
   "metadata": {
    "collapsed": false,
    "pycharm": {
     "name": "#%% md\n"
    }
   }
  },
  {
   "cell_type": "code",
   "execution_count": 152,
   "outputs": [
    {
     "name": "stdout",
     "output_type": "stream",
     "text": [
      "Analiza dokładności\n",
      "Zbieżność:  0\n"
     ]
    },
    {
     "data": {
      "text/plain": "<Figure size 432x288 with 1 Axes>",
      "image/png": "[encoded data removed]"
     },
     "metadata": {
      "needs_background": "light"
     },
     "output_type": "display_data"
    }
   ],
   "source": [
    "resid = []\n",
    "print(\"Analiza dokładności\")\n",
    "x_init = np.zeros((10,1))\n",
    "if main.is_symmetric(A3):\n",
    "    for iter in range(1, 15):\n",
    "        res, info = sp.sparse.linalg.cg(A3, b3, x0=x_init, maxiter = iter, callback=None, atol=1.0e-16)\n",
    "        resid.append(np.linalg.norm(b3 - A3@res))\n",
    "\n",
    "    print(\"Zbieżność: \", info)\n",
    "    num_of_iterations = len(resid)\n",
    "    x = [iter+1 for iter in range(num_of_iterations)]\n",
    "    plt.scatter(x, resid)\n",
    "    plt.grid()\n",
    "    plt.title(\"Metoda gradientów sprzężonych\")\n",
    "    plt.xlabel(\"Liczba iteracji\")\n",
    "    plt.yscale('log')\n",
    "    plt.ylabel(\"Norma residuum\")\n",
    "    plt.show()"
   ],
   "metadata": {
    "collapsed": false,
    "pycharm": {
     "name": "#%%\n"
    }
   }
  },
  {
   "cell_type": "code",
   "execution_count": 153,
   "outputs": [
    {
     "name": "stdout",
     "output_type": "stream",
     "text": [
      "Analiza czasowa\n",
      "128 µs ± 41.5 µs per loop (mean ± std. dev. of 5 runs, 10 loops each)\n",
      "144 µs ± 56.2 µs per loop (mean ± std. dev. of 5 runs, 10 loops each)\n",
      "120 µs ± 15.9 µs per loop (mean ± std. dev. of 5 runs, 10 loops each)\n",
      "149 µs ± 1.56 µs per loop (mean ± std. dev. of 5 runs, 10 loops each)\n",
      "167 µs ± 27.7 µs per loop (mean ± std. dev. of 5 runs, 10 loops each)\n",
      "207 µs ± 12.2 µs per loop (mean ± std. dev. of 5 runs, 10 loops each)\n",
      "252 µs ± 3.14 µs per loop (mean ± std. dev. of 5 runs, 10 loops each)\n",
      "251 µs ± 11.8 µs per loop (mean ± std. dev. of 5 runs, 10 loops each)\n",
      "257 µs ± 63.1 µs per loop (mean ± std. dev. of 5 runs, 10 loops each)\n",
      "269 µs ± 44.3 µs per loop (mean ± std. dev. of 5 runs, 10 loops each)\n",
      "265 µs ± 30 µs per loop (mean ± std. dev. of 5 runs, 10 loops each)\n",
      "270 µs ± 27.7 µs per loop (mean ± std. dev. of 5 runs, 10 loops each)\n",
      "278 µs ± 27.7 µs per loop (mean ± std. dev. of 5 runs, 10 loops each)\n",
      "295 µs ± 36.6 µs per loop (mean ± std. dev. of 5 runs, 10 loops each)\n"
     ]
    },
    {
     "data": {
      "text/plain": "<Figure size 432x288 with 1 Axes>",
      "image/png": "[encoded data removed]"
     },
     "metadata": {
      "needs_background": "light"
     },
     "output_type": "display_data"
    }
   ],
   "source": [
    "print(\"Analiza czasowa\")\n",
    "\n",
    "time = []\n",
    "error = []\n",
    "size = 15\n",
    "for iter in range(1, size):\n",
    "    avg_time = %timeit -r 5 -n 10 -o sp.sparse.linalg.cg(A3, b3, maxiter=iter, atol=1.0e-16)\n",
    "    time.append(avg_time.average)\n",
    "    error.append(avg_time.stdev)\n",
    "\n",
    "x = [iter for iter in range(1,size)]\n",
    "plt.errorbar(x, time, yerr=error, linestyle=\"None\", marker=\"o\")\n",
    "plt.grid()\n",
    "plt.title(\"Metoda gradientów sprzężonych analiza czasowa\")\n",
    "plt.xlabel(\"Liczba iteracji\")\n",
    "plt.ylabel(\"Czas wykonania [s]\")\n",
    "\n",
    "plt.show()"
   ],
   "metadata": {
    "collapsed": false,
    "pycharm": {
     "name": "#%%\n"
    }
   }
  },
  {
   "cell_type": "markdown",
   "source": [
    "**Metoda GMRES**"
   ],
   "metadata": {
    "collapsed": false,
    "pycharm": {
     "name": "#%% md\n"
    }
   }
  },
  {
   "cell_type": "code",
   "execution_count": 154,
   "outputs": [
    {
     "name": "stdout",
     "output_type": "stream",
     "text": [
      "Analiza dokładności\n",
      "0\n"
     ]
    },
    {
     "data": {
      "text/plain": "<Figure size 432x288 with 1 Axes>",
      "image/png": "[encoded data removed]"
     },
     "metadata": {
      "needs_background": "light"
     },
     "output_type": "display_data"
    }
   ],
   "source": [
    "resid = []\n",
    "def callback_resid(Xn):\n",
    "    resid.append(Xn)\n",
    "\n",
    "print(\"Analiza dokładności\")\n",
    "\n",
    "res, info = sp.sparse.linalg.gmres(A3, b3, maxiter = 10, atol=1.0e-16, callback=callback_resid, callback_type='pr_norm')\n",
    "print(info)\n",
    "resid.pop(-1)\n",
    "num_of_iterations = len(resid)\n",
    "x = [i+1 for i in range(num_of_iterations)]\n",
    "plt.scatter(x, resid)\n",
    "plt.grid()\n",
    "plt.yscale(\"log\")\n",
    "plt.title(\"Metoda GMRES - dokładność w zależności od liczby iteracji\")\n",
    "plt.xlabel(\"Ilość iteracji\")\n",
    "plt.ylabel(\"Norma residuum\")\n",
    "\n",
    "plt.show()"
   ],
   "metadata": {
    "collapsed": false,
    "pycharm": {
     "name": "#%%\n"
    }
   }
  },
  {
   "cell_type": "code",
   "execution_count": 155,
   "outputs": [
    {
     "name": "stdout",
     "output_type": "stream",
     "text": [
      "Analiza czasowa\n",
      "330 µs ± 121 µs per loop (mean ± std. dev. of 5 runs, 10 loops each)\n",
      "272 µs ± 37.6 µs per loop (mean ± std. dev. of 5 runs, 10 loops each)\n",
      "257 µs ± 29.8 µs per loop (mean ± std. dev. of 5 runs, 10 loops each)\n",
      "236 µs ± 24.8 µs per loop (mean ± std. dev. of 5 runs, 10 loops each)\n",
      "241 µs ± 35.2 µs per loop (mean ± std. dev. of 5 runs, 10 loops each)\n",
      "267 µs ± 6.35 µs per loop (mean ± std. dev. of 5 runs, 10 loops each)\n",
      "229 µs ± 25.9 µs per loop (mean ± std. dev. of 5 runs, 10 loops each)\n",
      "230 µs ± 25.9 µs per loop (mean ± std. dev. of 5 runs, 10 loops each)\n",
      "241 µs ± 20.1 µs per loop (mean ± std. dev. of 5 runs, 10 loops each)\n",
      "254 µs ± 31.4 µs per loop (mean ± std. dev. of 5 runs, 10 loops each)\n",
      "232 µs ± 27 µs per loop (mean ± std. dev. of 5 runs, 10 loops each)\n",
      "228 µs ± 34.6 µs per loop (mean ± std. dev. of 5 runs, 10 loops each)\n",
      "263 µs ± 18.5 µs per loop (mean ± std. dev. of 5 runs, 10 loops each)\n",
      "228 µs ± 25.4 µs per loop (mean ± std. dev. of 5 runs, 10 loops each)\n"
     ]
    },
    {
     "data": {
      "text/plain": "<Figure size 432x288 with 1 Axes>",
      "image/png": "[encoded data removed]"
     },
     "metadata": {
      "needs_background": "light"
     },
     "output_type": "display_data"
    }
   ],
   "source": [
    "print(\"Analiza czasowa\")\n",
    "\n",
    "time = []\n",
    "error = []\n",
    "size = 15\n",
    "for iter in range(1, size):\n",
    "    avg_time = %timeit -r 5 -n 10 -o sp.sparse.linalg.gmres(A3, b3, maxiter=iter, atol=1.0e-16)\n",
    "    time.append(avg_time.average)\n",
    "    error.append(avg_time.stdev)\n",
    "\n",
    "x = [iter for iter in range(1,size)]\n",
    "plt.errorbar(x, time, yerr=error, linestyle=\"None\", marker=\"o\")\n",
    "plt.grid()\n",
    "plt.title(\"Metoda GMRES analiza czasowa\")\n",
    "plt.xlabel(\"Liczba iteracji\")\n",
    "plt.ylabel(\"Czas wykonania [s]\")\n",
    "\n",
    "plt.show()"
   ],
   "metadata": {
    "collapsed": false,
    "pycharm": {
     "name": "#%%\n"
    }
   }
  },
  {
   "cell_type": "markdown",
   "metadata": {
    "pycharm": {
     "name": "#%% md\n"
    }
   },
   "source": [
    "Materiały uzupełniające:\n",
    "- [Scipy Lecture Notes](http://www.scipy-lectures.org/index.html)\n",
    "- [NumPy for Matlab users](https://docs.scipy.org/doc/numpy/user/numpy-for-matlab-users.html#numpy-for-matlab-users)\n",
    "- [Python Tutorial - W3Schools](https://www.w3schools.com/python/default.asp)\n",
    "- [NumPy](https://www.numpy.org)\n",
    "- [Matplotlib](https://matplotlib.org/)\n",
    "- [Anaconda](https://www.anaconda.com/)\n",
    "- [Learn Python for Data Science](https://www.datacamp.com/learn-python-with-anaconda?utm_source=Anaconda_download&utm_campaign=datacamp_training&utm_medium=banner)\n",
    "- [Learn Python](https://www.learnpython.org/)\n",
    "- [Wujek Google](https://google.pl) i [Ciocia Wikipedia](https://pl.wikipedia.org/wiki/Wikipedia:Strona_g%C5%82%C3%B3wna)"
   ]
  }
 ],
 "metadata": {
  "kernelspec": {
   "display_name": "Python 3",
   "language": "python",
   "name": "python3"
  },
  "language_info": {
   "codemirror_mode": {
    "name": "ipython",
    "version": 3
   },
   "file_extension": ".py",
   "mimetype": "text/x-python",
   "name": "python",
   "nbconvert_exporter": "python",
   "pygments_lexer": "ipython3",
   "version": "3.8.6-final"
  }
 },
 "nbformat": 4,
 "nbformat_minor": 2
}